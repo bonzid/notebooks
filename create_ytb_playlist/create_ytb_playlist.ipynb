{
  "nbformat": 4,
  "nbformat_minor": 0,
  "metadata": {
    "colab": {
      "provenance": []
    },
    "kernelspec": {
      "name": "python3",
      "display_name": "Python 3"
    },
    "language_info": {
      "name": "python"
    }
  },
  "cells": [
    {
      "cell_type": "code",
      "source": [
        "#Import d'un fichier txt contenant du texte brut avec des liens de vidéo Youtube."
      ],
      "metadata": {
        "id": "njuFplQQ72He"
      },
      "execution_count": null,
      "outputs": []
    },
    {
      "cell_type": "code",
      "source": [
        "import re\n",
        "\n",
        "def lire_fichier(fichier):\n",
        "    with open(fichier,'r') as file:\n",
        "        contenu=file.read()\n",
        "    return contenu\n",
        "\n",
        "def extraire_ids_videos_youtube(contenu):\n",
        "    #Expression régulière pour détecter les liens YouTube et extraire les IDs des vidéos\n",
        "    regex=r'(?:https?://)?(?:www\\.)?(?:youtube\\.com/watch\\?v=|youtu\\.be/)([\\w-]+)'\n",
        "    ids_videos=re.findall(regex,contenu)\n",
        "\n",
        "    #Nettoyer les IDs des vidéos pour enlever tout ce qui vient après un \"&\"\n",
        "    ids_videos=[id.split('&')[0] for id in ids_videos]\n",
        "    ids_videos=list(set(ids_videos))\n",
        "    print(\"Nombre de vidéos trouvées : \",len(ids_videos))\n",
        "\n",
        "    return ids_videos\n",
        "\n",
        "def generer_url_playlist(video_ids):\n",
        "    base_url=\"http://www.youtube.com/watch_videos?video_ids=\"\n",
        "    return base_url+\",\".join(video_ids)\n",
        "\n",
        "def main():\n",
        "    fichier='playlist.txt' #nom à changer\n",
        "    contenu=lire_fichier(fichier)\n",
        "\n",
        "    video_ids=extraire_ids_videos_youtube(contenu)\n",
        "    url_playlist=generer_url_playlist(video_ids)\n",
        "\n",
        "    print(f\"Playlist URL : {url_playlist}\")\n",
        "\n",
        "if __name__==\"__main__\":\n",
        "    main()"
      ],
      "metadata": {
        "id": "IqSfrk_jl35J"
      },
      "execution_count": null,
      "outputs": []
    }
  ]
}