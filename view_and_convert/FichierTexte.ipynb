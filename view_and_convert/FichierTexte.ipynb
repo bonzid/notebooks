{
  "nbformat": 4,
  "nbformat_minor": 0,
  "metadata": {
    "colab": {
      "provenance": []
    },
    "kernelspec": {
      "name": "python3",
      "display_name": "Python 3"
    },
    "language_info": {
      "name": "python"
    }
  },
  "cells": [
    {
      "cell_type": "markdown",
      "source": [
        "#Exercice : classe FichierTexte\n",
        "Doria BONZI - M2 IdL - 20/12/2024\n",
        "\n",
        "##Objectif\n",
        "\n",
        "> On veut développer une classe FichierTexte permettant de manipuler des fichiers textes de différents formats : txt, WebAnno et Glozz. A minima, on veut pouvoir afficher le texte brut de tout fichier et compte le nombre de caractères et de mots."
      ],
      "metadata": {
        "id": "Rqj1IwHBjXp1"
      }
    },
    {
      "cell_type": "markdown",
      "source": [
        "##Fonctionnement de notre classe FichierTexte\n",
        "Notre classe FichierTexte est la classe mère de trois classes filles :\n",
        "\n",
        "\n",
        "*   Classe Txt\n",
        "*   Classe WebAnno\n",
        "*   Classe Glozz\n",
        "\n",
        "Ces trois classes partagent 6 méthodes :\n",
        "\n",
        "\n",
        "*   `lire` : lit le contenu du fichier\n",
        "*   `afficher_texte_brut` (méthode abstraite car différente pour chaque classe fille) : récupère uniquement le texte \"brut\" du document (sans les annotations)\n",
        "*   `compter_caracteres` : compte le nombre de caractères dans le texte brut du fichier\n",
        "*   `compter_mots` : compte le nombre de mots dans le texte brut du fichier avec une tokenisation très sommaire\n",
        "*   `convertir` (méthode abstraite car différente pour chaque classe fille) : convertit un fichier d'un format à l'autre\n",
        "*   `afficher_annotations` (méthode abstraite car différente pour chaque classe fille) : crée un fichier HTML affichant le texte avec ses annotations\n",
        "\n",
        "\n",
        "\n",
        "---\n",
        "\n",
        "\n",
        "\n",
        "Actuellement, voici ce qu'il est possible de faire avec notre classe FichierTexte :\n",
        "\n",
        "\n",
        "\n",
        "*   Pour la **classe Txt** : afficher le texte brut, compter les mots et les caractères; (pas d'annotations pour le format txt donc pas de `afficher_annotations` ni de `convertir`)\n",
        "*   Pour la **classe WebAnno** : afficher le texte brut, compter les mots et les caractères, convertir vers un format txt uniquement, afficher les annotations dans une page Web (HTML).\n",
        "*   Pour la **classe Glozz** : afficher le texte brut, compter les mots et les caractères, convertir vers un format txt uniquement, afficher les annotations dans une page Web (HTML).\n",
        "\n",
        "\n",
        "\n",
        "> NB. Pour la méthode `afficher_annotations`, nous vous invitons à télécharger le fichier HTML généré dans le dossier /content/ de ce notebook, puis de l'ouvrir \"en local\" pour visualiser la page avec le texte et ses annotations.\n",
        "\n",
        "> Pour la classe WebAnno, nous utilisons deux fichiers, un fichier avec des annotations POS et un fichier avec des annotations coréférences. Pour la classe Glozz, nous avons un groupe de fichiers concernant des annotations coréférences.\n",
        "\n",
        "\n",
        "---\n",
        "\n",
        "\n",
        "###Pistes d'améliorations\n",
        "\n",
        "*   A l'heure actuelle, il est impossible de convertir un fichier WebAnno en fichier Glozz et inversement.\n",
        "*   Il est aussi impossible de visualiser les annotations de type coréférences de manière \"claire\" en format WebAnno et Glozz.\n",
        "*   Notre méthode `afficher_annotations` pour la classe Glozz ne semble récupérer aucune relation entre les unités.\n",
        "\n",
        "\n",
        "\n"
      ],
      "metadata": {
        "id": "Y_9I6XgClOuD"
      }
    },
    {
      "cell_type": "markdown",
      "source": [
        "#Classe FichierTexte"
      ],
      "metadata": {
        "id": "gflcSc0qlc-j"
      }
    },
    {
      "cell_type": "markdown",
      "source": [
        "##Importations"
      ],
      "metadata": {
        "id": "yEpP6Yr6-XDe"
      }
    },
    {
      "cell_type": "code",
      "source": [
        "!pip install gdown\n",
        "\n",
        "#Fichier format txt\n",
        "!gdown --id 17O-8eGlNagqhmgDSj27emCctp1XUgaNM -O lorem.txt\n",
        "\n",
        "#Fichier format Glozz\n",
        "!gdown --id 1oqTKQNJ00X0nPahEYs7KUVYFbRx7rioa -O glozz_annot_test.aa #annotations, corrections orthographiques\n",
        "!gdown --id 1BytMAEYT39YEdPD6zetJjCRtojngS8Az -O glozz_tags_test.aam #tags annotations\n",
        "!gdown --id 1yRYd3O6RDFKgyuwVA8Yz1RikHqp8wnFs -O glozz_txt_test.ac #texte brut\n",
        "\n",
        "#Fichier format WebAnno\n",
        "!gdown --id 1zrvOBu9bwsv_AJUAEAI8EhBpWe3hKA6H -O EC-CE1-2015-S47_doc000001_webanno.tsv #annotations POS\n",
        "!gdown --id 1eQPNyWB4vosy_kkPxC8nSE74OwLjZZNs -O essai.tsv #annotations coreferences"
      ],
      "metadata": {
        "id": "AKCcQ_G2tUj2"
      },
      "execution_count": null,
      "outputs": []
    },
    {
      "cell_type": "code",
      "source": [
        "from abc import ABC,abstractmethod\n",
        "import pandas as pd\n",
        "import webbrowser #pour ouvrir nos fichiers annotés dans le navigateur\n",
        "import json\n",
        "import xml.etree.ElementTree as ET #pour traiter le xml des fichiers glozz"
      ],
      "metadata": {
        "id": "10D2NyN6-Cu-"
      },
      "execution_count": null,
      "outputs": []
    },
    {
      "cell_type": "markdown",
      "source": [
        "##Classe mère et classes filles"
      ],
      "metadata": {
        "id": "mACYDEQe-ao9"
      }
    },
    {
      "cell_type": "markdown",
      "source": [
        "###Classe FichierTexte"
      ],
      "metadata": {
        "id": "jqVBB9uGFzTV"
      }
    },
    {
      "cell_type": "code",
      "source": [
        "class FichierTexte(ABC):\n",
        "    def __init__(self, nom_fichier):\n",
        "        self.nom_fichier=nom_fichier\n",
        "        self.contenu=None\n",
        "\n",
        "    def lire(self):\n",
        "        \"\"\"Lit le contenu du fichier\"\"\"\n",
        "        with open(self.nom_fichier,'r',encoding='utf-8') as f:\n",
        "            self.contenu=f.readlines()\n",
        "        #print(self.contenu)\n",
        "        return self.contenu\n",
        "\n",
        "    @abstractmethod\n",
        "    def afficher_texte_brut(self):\n",
        "        \"\"\"Affiche le texte brut\"\"\"\n",
        "        pass\n",
        "\n",
        "    def compter_caracteres(self):\n",
        "        \"\"\"Compte le nombre de caractères du texte sans annotations\"\"\"\n",
        "        texte_brut=self.afficher_texte_brut()\n",
        "        return len(texte_brut)\n",
        "\n",
        "    def compter_mots(self):\n",
        "        \"\"\"Compte le nombre de mots du texte sans annotations\"\"\"\n",
        "        texte_brut=self.afficher_texte_brut()\n",
        "        return len(texte_brut.split()) #tokenisation très sommaire pour compter les mots du texte brut\n",
        "\n",
        "    @abstractmethod\n",
        "    def convertir(self, format_cible):\n",
        "        \"\"\"Convertit le fichier vers un autre format\"\"\"\n",
        "        pass\n",
        "\n",
        "    @abstractmethod\n",
        "    def afficher_annotations(self):\n",
        "        \"\"\"Affiche les textes avec les annotations\"\"\"\n",
        "        pass"
      ],
      "metadata": {
        "id": "H1aqToqu-FZ9"
      },
      "execution_count": null,
      "outputs": []
    },
    {
      "cell_type": "markdown",
      "source": [
        "###Classe Txt"
      ],
      "metadata": {
        "id": "hxPzivXAFtlk"
      }
    },
    {
      "cell_type": "code",
      "source": [
        "class Txt(FichierTexte):\n",
        "    def afficher_texte_brut(self):\n",
        "        \"\"\"Affiche le texte brut\"\"\"\n",
        "        if self.contenu is None:\n",
        "            with open(self.nom_fichier,'r',encoding='utf-8') as f:\n",
        "                self.contenu=f.read()  #lire tout le contenu comme une chaîne\n",
        "        return self.contenu\n",
        "\n",
        "    def convertir(self,format_cible):\n",
        "        raise NotImplementedError(\"Conversion pour txt non implémentée.\")\n",
        "\n",
        "    def afficher_annotations(self):\n",
        "        print(\"Pas d'annotations pour le format txt\")"
      ],
      "metadata": {
        "id": "43ntQBrQ-CA9"
      },
      "execution_count": null,
      "outputs": []
    },
    {
      "cell_type": "markdown",
      "source": [
        "###Classe WebAnno"
      ],
      "metadata": {
        "id": "qSOXlA7NFrhs"
      }
    },
    {
      "cell_type": "code",
      "source": [
        "class WebAnno(FichierTexte):\n",
        "    def afficher_texte_brut(self):\n",
        "        \"\"\"\n",
        "        Affiche uniquement le texte sans annotations\n",
        "        \"\"\"\n",
        "        if self.contenu is None:\n",
        "            self.lire()  #si la méthode \"lire\" n'a pas encore été utilisée, on lit le fichier\n",
        "        #print(self.contenu)\n",
        "\n",
        "        texte_brut=\"\" #on stocke ici notre texte non annoté\n",
        "\n",
        "        #extractation et affichage des parties de texte après \"#Text=\" dans la console\n",
        "        for ligne in self.contenu:\n",
        "            if ligne.startswith(\"#Text=\"):\n",
        "                texte_brut+=ligne.strip()[6:]+\"\\n\"  #on ajoute chaque texte récupéré à texte_brut\n",
        "\n",
        "        return texte_brut\n",
        "\n",
        "    def convertir(self,format_cible):\n",
        "        \"\"\"\n",
        "        Convertit le fichier WebAnno TSV en texte brut ou format Glozz\n",
        "        \"\"\"\n",
        "        if format_cible==\"txt\":\n",
        "            texte_brut=self.afficher_texte_brut()\n",
        "            with open(self.nom_fichier.replace(\".tsv\",\".txt\"), \"w\",encoding='utf-8') as f:\n",
        "                f.write(texte_brut)\n",
        "            print(f\"Conversion vers texte brut réussie : {self.nom_fichier.replace('.tsv','.txt')}\")\n",
        "\n",
        "\n",
        "        elif format_cible==\"glozz\":\n",
        "            raise NotImplementedError(\"Conversion pour txt non implémentée.\")\n",
        "\n",
        "        else:\n",
        "            print(f\"Format de conversion '{format_cible}' non supporté\")\n",
        "\n",
        "\n",
        "    def afficher_annotations(self):\n",
        "        \"\"\"\n",
        "        Génère un fichier HTML pour afficher les textes annotés à partir de fichiers TSV\n",
        "        \"\"\"\n",
        "        if self.contenu is None:\n",
        "            self.lire()\n",
        "\n",
        "        #ici on commence notre fichier html pour afficher les annotations\n",
        "        html_content=\"\"\"\n",
        "        <!DOCTYPE html>\n",
        "        <html lang=\"fr\">\n",
        "        <head>\n",
        "            <meta charset=\"UTF-8\">\n",
        "            <title>Annotations WebAnno</title>\n",
        "            <style>\n",
        "                body{\n",
        "                    font-family: Arial,sans-serif;\n",
        "                    line-height:1.8;\n",
        "                    padding:20px;\n",
        "                    background:#eaeaea; /*gris clair*/\n",
        "                }\n",
        "                .phrase{\n",
        "                    margin-bottom:20px;\n",
        "                }\n",
        "                .token{\n",
        "                    display:inline-block;\n",
        "                    margin-right:10px;\n",
        "                    font-size:18px;\n",
        "                    color:black;\n",
        "                }\n",
        "                .annotations{\n",
        "                    display:flex;\n",
        "                    flex-direction: column;\n",
        "                    align-items:center;\n",
        "                    font-size:14px;\n",
        "                    margin-top:-10px;\n",
        "                }\n",
        "                .annotation{\n",
        "                    color:grey;\n",
        "                    font-style:italic;\n",
        "                } /*on associe une couleur à chaque annotation*/\n",
        "                .annotation:nth-child(1) {color:blue;}\n",
        "                .annotation:nth-child(2) {color:green;}\n",
        "                .annotation:nth-child(3) {color:orange;}\n",
        "                .annotation:nth-child(4) {color:purple;}\n",
        "                .annotation:nth-child(5) {color:brown;}\n",
        "                .annotation:nth-child(6) {color:pink;}\n",
        "                .annotation:nth-child(7) {color:gray;}\n",
        "                .annotation:nth-child(8) {color:red;}\n",
        "            </style>\n",
        "        </head>\n",
        "        <body>\n",
        "            <h1 style=\"text-align: center;\">Texte annoté</h1>\n",
        "            <div style=\"background: #fff; padding: 20px; border: 1px solid #ddd; border-radius: 8px;\">\n",
        "        \"\"\"\n",
        "\n",
        "        #A présent, on traite nos données pour enrichir notre fichier HTML\n",
        "        phrases=[]\n",
        "        phrase=[]\n",
        "        for ligne in self.contenu:\n",
        "            if ligne.startswith(\"#Text=\"):  #on détecte une nouvelle phrase avec #Text\n",
        "                if phrase:\n",
        "                    phrases.append(phrase)\n",
        "                phrase=[] #on vide la variable phrase une fois la phrase courante dans la liste \"phrases\"\n",
        "            elif ligne.strip() and not ligne.startswith(\"#\"): #si ça ne commence pas par #, on récup les infos\n",
        "                colonnes=ligne.strip().split(\"\\t\")\n",
        "                if len(colonnes)>3:  #on considère toutes les colonnes après la troisième comme des annotations\n",
        "                    token=colonnes[2]\n",
        "                    annotations=colonnes[3:]\n",
        "                    phrase.append((token,annotations))\n",
        "        if phrase: #ajout de la dernière phrase\n",
        "            phrases.append(phrase)\n",
        "\n",
        "        #maintenant, on alimente notre HTML\n",
        "        for phrase in phrases:\n",
        "            html_content+='<div class=\"phrase\">\\n'\n",
        "            for token,annotations in phrase:\n",
        "                html_content+=f\"\"\"\n",
        "                    <div class=\"token\">\n",
        "                        {token}\n",
        "                        <div class=\"annotations\">\n",
        "                \"\"\"\n",
        "                for annotation in annotations: #on ajoute les annotations au html\n",
        "                    html_content+=f'<div class=\"annotation\">{annotation}</div>'\n",
        "                html_content+=\"\"\"\n",
        "                        </div>\n",
        "                    </div>\n",
        "                \"\"\"\n",
        "            html_content+='</div>\\n'\n",
        "\n",
        "        #fin du html\n",
        "        html_content+=\"\"\"\n",
        "        </body>\n",
        "        </html>\n",
        "        \"\"\"\n",
        "\n",
        "        #on sauvegarde le fichier html produit\n",
        "        nom_fichier_html=self.nom_fichier.replace(\".tsv\",\"_visualisation.html\")\n",
        "        with open(nom_fichier_html,\"w\",encoding=\"utf-8\") as f:\n",
        "            f.write(html_content)\n",
        "\n",
        "\n",
        "        #on l'ouvre dans le navigateur\n",
        "        #? marche pas // à voir en local\n",
        "        print(f\"Affichage dans le navigateur : {nom_fichier_html}\")\n",
        "        webbrowser.open(nom_fichier_html)"
      ],
      "metadata": {
        "id": "xbLUNOzE-Hw3"
      },
      "execution_count": null,
      "outputs": []
    },
    {
      "cell_type": "markdown",
      "source": [
        "###Classe Glozz"
      ],
      "metadata": {
        "id": "0D6Fggm8FwrG"
      }
    },
    {
      "cell_type": "code",
      "source": [
        "class Glozz(FichierTexte):\n",
        "    def __init__(self,nom_fichier_ac,nom_fichier_aam,nom_fichier_aa):\n",
        "        \"\"\"\n",
        "        Initialise la classe Glozz avec trois fichiers :\n",
        "          - nom_fichier_ac : fichier texte brut (.ac)\n",
        "          - nom_fichier_aam : fichier de modèle (.aam)\n",
        "          - nom_fichier_aa : fichier d'annotations (.aa)\n",
        "        \"\"\"\n",
        "        super().__init__(nom_fichier_ac)  #fichier ac traité comme le fichier \"principal\" pour texte brut\n",
        "        self.nom_fichier_aam=nom_fichier_aam\n",
        "        self.nom_fichier_ac = nom_fichier_ac\n",
        "        self.nom_fichier_aa=nom_fichier_aa\n",
        "        self.modele=None\n",
        "        self.annotations=None\n",
        "\n",
        "    def lire(self):\n",
        "        \"\"\"\n",
        "        Lit le contenu des trois fichiers :\n",
        "        - Texte brut depuis le fichier .ac\n",
        "        - Modèle depuis le fichier .aam\n",
        "        - Annotations depuis le fichier .aa\n",
        "        \"\"\"\n",
        "        #lecture du fichier texte brut (.ac)\n",
        "        with open(self.nom_fichier,'r',encoding='utf-8') as f:\n",
        "            self.contenu=f.read()\n",
        "\n",
        "        #lecture du fichier de métadonnées (.aam)\n",
        "        try:\n",
        "            with open(self.nom_fichier_aam,'r',encoding='utf-8') as f:\n",
        "                self.modele=f.read()\n",
        "        except FileNotFoundError:\n",
        "            print(f\"Le fichier {self.nom_fichier_aam} est introuvable.\")\n",
        "            self.modele=None\n",
        "\n",
        "        #lecture du fichier d'annotations (.aa)\n",
        "        try:\n",
        "            with open(self.nom_fichier_aa,'r',encoding='utf-8') as f:\n",
        "                self.annotations=json.load(f)  #on charge un json des annotations\n",
        "        except json.JSONDecodeError:\n",
        "            print(f\"Le fichier {self.nom_fichier_aa} n'est pas un JSON valide.\")\n",
        "            self.annotations={}\n",
        "        except FileNotFoundError:\n",
        "            print(f\"Le fichier {self.nom_fichier_aa} est introuvable\")\n",
        "            self.annotations=None\n",
        "\n",
        "    def afficher_texte_brut(self):\n",
        "        \"\"\"\n",
        "        Retourne uniquement le texte brut du fichier .ac\n",
        "        \"\"\"\n",
        "        if self.contenu is None:\n",
        "            self.lire()\n",
        "        return self.contenu\n",
        "\n",
        "\n",
        "\n",
        "    def convertir(self,format_cible):\n",
        "        \"\"\"\n",
        "        Convertit le fichier vers un format txt ou WebAnno\n",
        "        \"\"\"\n",
        "        if format_cible==\"txt\":\n",
        "            texte_brut=self.afficher_texte_brut()\n",
        "            with open(self.nom_fichier.replace(\".ac\",\".txt\"), \"w\",encoding='utf-8') as f:\n",
        "                f.write(texte_brut)\n",
        "            print(f\"Conversion vers texte brut réussie : {self.nom_fichier.replace('.ac','.txt')}\")\n",
        "\n",
        "\n",
        "        elif format_cible==\"WebAnno\" or \"webanno\":\n",
        "            raise NotImplementedError(\"Conversion vers WebAnno non implémentée.\")\n",
        "\n",
        "        else:\n",
        "            print(f\"Format de conversion '{format_cible}' non supporté\")\n",
        "\n",
        "\n",
        "    def afficher_annotations(self):\n",
        "        \"\"\"\n",
        "        Génère une page HTML affichant le texte brut avec les annotations et relations.\n",
        "        \"\"\"\n",
        "        if self.annotations is None:\n",
        "            self.lire() #chargement des annotations\n",
        "\n",
        "        #chargmeent du texte brut\n",
        "        texte_brut=self.afficher_texte_brut()\n",
        "\n",
        "        #on parse le fichier xml (.aa)\n",
        "        try:\n",
        "            tree=ET.parse(self.nom_fichier_aa)\n",
        "            root=tree.getroot()\n",
        "        except ET.ParseError as e:\n",
        "            print(f\"Erreur lors du parsage du fichier XML : {e}\")\n",
        "            return\n",
        "\n",
        "        #on essaie de lier des \"unités\" définies par des id et des \"types\", à des relations définies par un id et deux \"terms\" (unités liées)\n",
        "        unites={}\n",
        "        relations=[]\n",
        "        relation_data={}\n",
        "\n",
        "        for element in root:\n",
        "            if element.tag==\"unit\":\n",
        "                unit_id=element.attrib.get(\"id\")\n",
        "                unites[unit_id]=None #valeur par défaut\n",
        "                for child in element:\n",
        "                  if child.tag==\"type\":\n",
        "                    unites[unit_id]=child.text #on lie l'id de l'unité avec son type\n",
        "            elif element.tag==\"relation\":\n",
        "                relation_id=element.attrib.get(\"id\")\n",
        "                relations_data={\n",
        "                    \"id\":relation_id,\n",
        "                    \"type\":None\n",
        "                }\n",
        "                for child in element:\n",
        "                  if child.tag==\"term\":\n",
        "                    term=child.attrib.get(\"id\")\n",
        "            else:\n",
        "              pass\n",
        "\n",
        "        for unit in unites:\n",
        "            for type in relation_data:\n",
        "                if unit==term: #si un id de unit et un unit de term match, on affiche une relation entre les deux dans le html\n",
        "                  pass #? comment faire\n",
        "\n",
        "        #on génère le html\n",
        "        html_content=\"\"\"\n",
        "        <!DOCTYPE html>\n",
        "        <html lang=\"fr\">\n",
        "        <head>\n",
        "            <meta charset=\"UTF-8\">\n",
        "            <title>Annotations Glozz</title>\n",
        "            <style>\n",
        "                body {\n",
        "                    font-family:Arial,sans-serif;\n",
        "                    line-height:1.8;\n",
        "                    background:#eaeaea;\n",
        "                    padding:20px;\n",
        "                }\n",
        "                .unit {\n",
        "                    color:white;\n",
        "                    background-color:blue;\n",
        "                    padding:2px 5px;\n",
        "                    border-radius:4px;\n",
        "                }\n",
        "                .relation{\n",
        "                    color: green;\n",
        "                    font-style:italic;\n",
        "                }\n",
        "                .arrow{\n",
        "                    display:inline-block;\n",
        "                    margin:5px;\n",
        "                    font-size:16px;\n",
        "                }\n",
        "            </style>\n",
        "        </head>\n",
        "        <body>\n",
        "            <h1 style=\"text-align: center;\">Texte annoté</h1>\n",
        "            <div style=\"background: #fff; padding: 20px; border: 1px solid #ddd; border-radius: 8px;\">\n",
        "        \"\"\"\n",
        "\n",
        "        #on ajoute les unités\n",
        "        html_content+=\"<h2>Unités</h2><ul>\"\n",
        "        for unit_id,unit_type in unites.items():\n",
        "            html_content+=f'<li class=\"unit\" title=\"{unit_type}\">Unité {unit_id} : {unit_type}</li>'\n",
        "        html_content+=\"</ul>\"\n",
        "\n",
        "        #et les relations\n",
        "        html_content+=\"<h2>Relations</h2><ul>\"\n",
        "        for relation in relations:\n",
        "            source=relation[\"source\"]\n",
        "            rel_type=relation[\"type\"]\n",
        "            html_content+=f\"\"\"\n",
        "            <li class=\"relation\">\n",
        "                <span>Relation {relation['id']}: </span>\n",
        "                <span class=\"arrow\">→</span>\n",
        "                (<em>{rel_type}</em>)\n",
        "            </li>\n",
        "            \"\"\"\n",
        "        html_content+=\"</ul>\"\n",
        "\n",
        "        html_content+=f\"<h2>Texte Brut</h2><p>{texte_brut}</p>\"\n",
        "\n",
        "        #fermeture des balises HTML\n",
        "        html_content+=\"\"\"\n",
        "            </div>\n",
        "        </body>\n",
        "        </html>\n",
        "        \"\"\"\n",
        "\n",
        "        #on enregistre dans un fichier html\n",
        "        output_file=self.nom_fichier.replace(\".ac\",\"_annotations.html\")\n",
        "        with open(output_file,\"w\",encoding=\"utf-8\") as f:\n",
        "            f.write(html_content)\n",
        "\n",
        "        print(f\"Annotations sauvegardées dans {output_file}\")"
      ],
      "metadata": {
        "id": "GzpoFqIkExfV"
      },
      "execution_count": null,
      "outputs": []
    },
    {
      "cell_type": "markdown",
      "source": [
        "##Test sur un fichier txt"
      ],
      "metadata": {
        "id": "Os3L2aHu8KA1"
      }
    },
    {
      "cell_type": "code",
      "source": [
        "if __name__==\"__main__\":\n",
        "    lorem=Txt('lorem.txt')\n",
        "    print(\"Texte sans annotations : \")\n",
        "    texte_brut=lorem.afficher_texte_brut()\n",
        "    print(texte_brut)\n",
        "\n",
        "    print(f\"Nombre de caractères : {lorem.compter_caracteres()}\")\n",
        "    print(f\"Nombre de mots : {lorem.compter_mots()}\")"
      ],
      "metadata": {
        "id": "nWs4KHGeSJLk"
      },
      "execution_count": null,
      "outputs": []
    },
    {
      "cell_type": "markdown",
      "source": [
        "##Tests sur des fichiers WebAnno"
      ],
      "metadata": {
        "id": "PDmQ63iQ8OEG"
      }
    },
    {
      "cell_type": "markdown",
      "source": [
        "###Fichier EC-CE1-2015-S47_doc000001_webanno.tsv (annotations POS)"
      ],
      "metadata": {
        "id": "-grEETwhsino"
      }
    },
    {
      "cell_type": "code",
      "source": [
        "if __name__==\"__main__\":\n",
        "    copie_ce1=WebAnno('EC-CE1-2015-S47_doc000001_webanno.tsv')\n",
        "\n",
        "    print(\"Texte extrait sans annotations :\")\n",
        "    texte_brut=copie_ce1.afficher_texte_brut()\n",
        "    print(texte_brut)\n",
        "\n",
        "    print(f\"Nombre de caractères : {copie_ce1.compter_caracteres()}\")\n",
        "    print(f\"Nombre de mots : {copie_ce1.compter_mots()}\")\n",
        "\n",
        "    copie_ce1.convertir('txt')\n",
        "\n",
        "    copie_ce1.afficher_annotations()"
      ],
      "metadata": {
        "id": "CJi08gkJTplM"
      },
      "execution_count": null,
      "outputs": []
    },
    {
      "cell_type": "markdown",
      "source": [
        "###Fichier essai.tsv (annotations coréférences)"
      ],
      "metadata": {
        "id": "lVoyktcwspuY"
      }
    },
    {
      "cell_type": "code",
      "source": [
        "if __name__==\"__main__\":\n",
        "    test=WebAnno('essai.tsv')\n",
        "\n",
        "    print(\"Texte extrait sans annotations :\")\n",
        "    texte_brut=test.afficher_texte_brut()\n",
        "    #print(texte_brut)\n",
        "\n",
        "    print(f\"Nombre de caractères : {test.compter_caracteres()}\")\n",
        "    print(f\"Nombre de mots : {test.compter_mots()}\")\n",
        "\n",
        "    test.convertir('txt')\n",
        "\n",
        "    test.afficher_annotations()"
      ],
      "metadata": {
        "id": "sCl9H_2HE8oF"
      },
      "execution_count": null,
      "outputs": []
    },
    {
      "cell_type": "markdown",
      "source": [
        "##Test sur des fichiers Glozz"
      ],
      "metadata": {
        "id": "eCJh_Y0e8SV8"
      }
    },
    {
      "cell_type": "code",
      "source": [
        "glozz_fichier=Glozz('glozz_txt_test.ac','glozz_tags_test.aam','glozz_annot_test.aa')\n",
        "\n",
        "#Lecture et affichage du texte brut\n",
        "texte_brut=glozz_fichier.afficher_texte_brut()\n",
        "print(\"Texte brut : \")\n",
        "print(texte_brut)\n",
        "\n",
        "glozz_fichier.convertir('txt')\n",
        "\n",
        "print(f\"Nombre de caractères : {glozz_fichier.compter_caracteres()}\")\n",
        "print(f\"Nombre de mots : {glozz_fichier.compter_mots()}\")\n",
        "\n",
        "#affichage des annotations\n",
        "glozz_fichier.afficher_annotations()"
      ],
      "metadata": {
        "id": "5teF5bwvE03M"
      },
      "execution_count": null,
      "outputs": []
    }
  ]
}